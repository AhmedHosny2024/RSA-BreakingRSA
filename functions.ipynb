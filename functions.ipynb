{
 "cells": [
  {
   "cell_type": "code",
   "execution_count": 177,
   "metadata": {},
   "outputs": [],
   "source": [
    "import random\n",
    "import math"
   ]
  },
  {
   "cell_type": "code",
   "execution_count": 178,
   "metadata": {},
   "outputs": [],
   "source": [
    "def prime(num): \n",
    "    return (num > 1 and all(num % i for i in range(2,int(math.sqrt(num))+1)))\n"
   ]
  },
  {
   "cell_type": "code",
   "execution_count": 179,
   "metadata": {},
   "outputs": [],
   "source": [
    "\n",
    "def generate_prime(beg=7, end=10000):\n",
    "    p = random.randint(beg, end)\n",
    "    q = random.randint(beg, end)\n",
    "    while not prime(p):\n",
    "        p = random.randint(beg, end)\n",
    "    while not prime(q) or p == q:\n",
    "        q = random.randint(beg, end)\n",
    "    return p , q "
   ]
  },
  {
   "cell_type": "code",
   "execution_count": 180,
   "metadata": {},
   "outputs": [],
   "source": [
    "def calcN(p,q):\n",
    "    n=p*q\n",
    "    phi=(p-1)*(q-1)\n",
    "    return n , phi"
   ]
  },
  {
   "cell_type": "code",
   "execution_count": 181,
   "metadata": {},
   "outputs": [],
   "source": [
    "def modExp(a, n, mod):\n",
    "   if n == 0:     return 1 % mod\n",
    "   elif n == 1:   return a % mod\n",
    "   else:\n",
    "      b = modExp(a, n // 2, mod)\n",
    "      b = b * b % mod\n",
    "      if n % 2 == 0:\n",
    "         return b\n",
    "      else:\n",
    "         return b * a % mod"
   ]
  },
  {
   "cell_type": "code",
   "execution_count": 182,
   "metadata": {},
   "outputs": [],
   "source": [
    "def ExtendedEuclid(a, b):\n",
    "    if b == 0:\n",
    "        return (1, 0)\n",
    "    (x, y) = ExtendedEuclid(b, a % b)\n",
    "    k = a // b\n",
    "    return (y, x - k * y)"
   ]
  },
  {
   "cell_type": "code",
   "execution_count": 183,
   "metadata": {},
   "outputs": [
    {
     "name": "stdout",
     "output_type": "stream",
     "text": [
      "5\n"
     ]
    }
   ],
   "source": [
    "def modInv(e, phi):\n",
    "    (b, x) = ExtendedEuclid(e, phi)\n",
    "    if b < 0:\n",
    "        b = (b % phi + phi) % phi # as we don't want -ve integers\n",
    "    return b\n",
    "print(modInv(5,12))"
   ]
  },
  {
   "cell_type": "code",
   "execution_count": 184,
   "metadata": {},
   "outputs": [],
   "source": [
    "def GCD(a, b):\n",
    "   return a if b == 0 else  GCD(b, a % b)"
   ]
  },
  {
   "cell_type": "code",
   "execution_count": 185,
   "metadata": {},
   "outputs": [],
   "source": [
    "\n",
    "def calcE(phi):\n",
    "    r=random.randint(0,phi)\n",
    "    while(GCD(r,phi)!=1 and r>1):\n",
    "        r=random.randint(0,phi)\n",
    "    return r"
   ]
  },
  {
   "cell_type": "code",
   "execution_count": 186,
   "metadata": {},
   "outputs": [],
   "source": [
    "data=['0','1','2','3','4','5','6','7','8','9','a','b','c','d','e','f','g','h','i','j','k','l','m','n','o','p','q','r','s','t','u','v','w','x','y','z',' ']\n",
    "def strToInt(message_str):\n",
    "   res = 0\n",
    "   j=(len(message_str))-1\n",
    "   for i in range(len(message_str)):\n",
    "        if(message_str[i] in data ):\n",
    "            res += data.index(str(message_str[i])) * (37**j)\n",
    "        else:\n",
    "            res = 36 * (37**36)\n",
    "        j=j-1\n",
    "   return res"
   ]
  },
  {
   "cell_type": "code",
   "execution_count": 187,
   "metadata": {},
   "outputs": [
    {
     "name": "stdout",
     "output_type": "stream",
     "text": [
      "[32822818, 32822818]\n"
     ]
    }
   ],
   "source": [
    "def converToInt(msg):\n",
    "    msg=msg.lower()\n",
    "    enc=[]\n",
    "    add=(5 - (len(msg) % 5) )%5\n",
    "    for i in range(0,add):\n",
    "        msg=msg + ' '\n",
    "    for i in range(0,len(msg),5):\n",
    "        enc.append(strToInt(msg[i:i+5]))\n",
    "    return enc\n",
    "print(converToInt('hi s7hi s7'))"
   ]
  },
  {
   "cell_type": "code",
   "execution_count": 188,
   "metadata": {},
   "outputs": [
    {
     "name": "stdout",
     "output_type": "stream",
     "text": [
      "hi s7\n"
     ]
    }
   ],
   "source": [
    "def intToStr(n):\n",
    "   res = \"\"\n",
    "   while n > 0:\n",
    "      res = data[n % 37] +res\n",
    "      n //= 37\n",
    "   return res\n",
    "print(intToStr(32822818))"
   ]
  },
  {
   "cell_type": "code",
   "execution_count": 189,
   "metadata": {},
   "outputs": [
    {
     "name": "stdout",
     "output_type": "stream",
     "text": [
      "['hi s7', 'hi s7', 'hi s ']\n"
     ]
    }
   ],
   "source": [
    "def convertToStr(msg):\n",
    "    dec=[]\n",
    "    for i in range(0,len(msg)):\n",
    "        dec.append(intToStr(msg[i]))\n",
    "    return dec\n",
    "x=[32822818, 32822818, 32822847]\n",
    "print(convertToStr(x))"
   ]
  },
  {
   "cell_type": "code",
   "execution_count": 190,
   "metadata": {},
   "outputs": [
    {
     "ename": "TypeError",
     "evalue": "'>' not supported between instances of 'list' and 'int'",
     "output_type": "error",
     "traceback": [
      "\u001b[1;31m---------------------------------------------------------------------------\u001b[0m",
      "\u001b[1;31mTypeError\u001b[0m                                 Traceback (most recent call last)",
      "Cell \u001b[1;32mIn[190], line 13\u001b[0m\n\u001b[0;32m     10\u001b[0m       c\u001b[39m.\u001b[39mappend(modExp(m[i], e, n))\n\u001b[0;32m     11\u001b[0m    \u001b[39mreturn\u001b[39;00m c\n\u001b[1;32m---> 13\u001b[0m \u001b[39mprint\u001b[39m(Encrypt(\u001b[39m'\u001b[39;49m\u001b[39mhi s7\u001b[39;49m\u001b[39m'\u001b[39;49m, \u001b[39m21\u001b[39;49m, \u001b[39m5\u001b[39;49m))\n",
      "Cell \u001b[1;32mIn[190], line 3\u001b[0m, in \u001b[0;36mEncrypt\u001b[1;34m(m, n, e)\u001b[0m\n\u001b[0;32m      1\u001b[0m \u001b[39mdef\u001b[39;00m \u001b[39mEncrypt\u001b[39m (m, n, e):\n\u001b[0;32m      2\u001b[0m    m \u001b[39m=\u001b[39m converToInt(m)\n\u001b[1;32m----> 3\u001b[0m    \u001b[39mwhile\u001b[39;00m(m \u001b[39m>\u001b[39;49m n):\n\u001b[0;32m      4\u001b[0m             \u001b[39mprint\u001b[39m(\u001b[39m\"\u001b[39m\u001b[39mtake care the other side cannot receive this message correctly as M > n which break RSA condition\u001b[39m\u001b[39m\\n\u001b[39;00m\u001b[39m\"\u001b[39m)\n\u001b[0;32m      5\u001b[0m             \u001b[39mprint\u001b[39m(\u001b[39m\"\u001b[39m\u001b[39mplease, reconsider and submit another message .. \u001b[39m\u001b[39m\\n\u001b[39;00m\u001b[39m\"\u001b[39m)\n",
      "\u001b[1;31mTypeError\u001b[0m: '>' not supported between instances of 'list' and 'int'"
     ]
    }
   ],
   "source": [
    "def Encrypt (m, n, e):\n",
    "   m = converToInt(m)\n",
    "   while(m > n):\n",
    "            print(\"take care the other side cannot receive this message correctly as M > n which break RSA condition\\n\")\n",
    "            print(\"please, reconsider and submit another message .. \\n\")\n",
    "            m = input(\"type the message to be sent : > \")\n",
    "            m = converToInt(m)  \n",
    "   c = []\n",
    "   for i in range(len(m)):\n",
    "      c.append(modExp(m[i], e, n))\n",
    "   return c\n",
    "\n",
    "print(Encrypt('hi s7', 21, 5))"
   ]
  },
  {
   "cell_type": "code",
   "execution_count": null,
   "metadata": {},
   "outputs": [
    {
     "name": "stdout",
     "output_type": "stream",
     "text": [
      "7\n",
      "['7']\n"
     ]
    }
   ],
   "source": [
    "def Decrypt(c, n, d):\n",
    "   m=[]\n",
    "   for i in range(len(c)):\n",
    "      m.append(modExp(c[i], d, n))\n",
    "      print(m[i])\n",
    "   return convertToStr(m)\n",
    "print(Decrypt([7], 21, 5))\n"
   ]
  }
 ],
 "metadata": {
  "kernelspec": {
   "display_name": "Python 3",
   "language": "python",
   "name": "python3"
  },
  "language_info": {
   "codemirror_mode": {
    "name": "ipython",
    "version": 3
   },
   "file_extension": ".py",
   "mimetype": "text/x-python",
   "name": "python",
   "nbconvert_exporter": "python",
   "pygments_lexer": "ipython3",
   "version": "3.8.10"
  },
  "orig_nbformat": 4,
  "vscode": {
   "interpreter": {
    "hash": "a75b623abb3afd5df00407aeb1939f60f395e09bc5d2d2d709c8e46c422371e2"
   }
  }
 },
 "nbformat": 4,
 "nbformat_minor": 2
}
